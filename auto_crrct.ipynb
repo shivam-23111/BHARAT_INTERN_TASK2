{
 "cells": [
  {
   "cell_type": "code",
   "execution_count": 31,
   "id": "6d1691ec-8e11-4ed2-893e-fa1e46feb6a3",
   "metadata": {},
   "outputs": [],
   "source": [
    "from textblob import TextBlob"
   ]
  },
  {
   "cell_type": "markdown",
   "id": "324335ec",
   "metadata": {},
   "source": [
    "importing the required library"
   ]
  },
  {
   "cell_type": "code",
   "execution_count": 32,
   "id": "53930005-5c9a-4889-bdc5-c043b1ca6b89",
   "metadata": {},
   "outputs": [],
   "source": [
    "text=input(\"enter your text :\")"
   ]
  },
  {
   "cell_type": "markdown",
   "id": "6102b7fa",
   "metadata": {},
   "source": [
    "taking user input"
   ]
  },
  {
   "cell_type": "code",
   "execution_count": 33,
   "id": "26ed75ca",
   "metadata": {},
   "outputs": [],
   "source": [
    "textBlb = TextBlob(text) "
   ]
  },
  {
   "cell_type": "code",
   "execution_count": 34,
   "id": "6fcc2415-b764-490d-b657-2b69300bc7b6",
   "metadata": {},
   "outputs": [],
   "source": [
    "textCorrected = textBlb.correct() "
   ]
  },
  {
   "cell_type": "markdown",
   "id": "406b6413",
   "metadata": {},
   "source": [
    "calling the function to correct the user input and the corrected string is stored in a variable 'textcorrected'"
   ]
  },
  {
   "cell_type": "code",
   "execution_count": 35,
   "id": "c733f00b-877c-4e90-a7bc-da1c61a6f731",
   "metadata": {},
   "outputs": [
    {
     "name": "stdout",
     "output_type": "stream",
     "text": [
      "'keybord' after correction  is 'keyboard'\n"
     ]
    }
   ],
   "source": [
    "print(\"'{}' after correction  is '{}'\".format(text,textCorrected))"
   ]
  }
 ],
 "metadata": {
  "kernelspec": {
   "display_name": "Python 3 (ipykernel)",
   "language": "python",
   "name": "python3"
  },
  "language_info": {
   "codemirror_mode": {
    "name": "ipython",
    "version": 3
   },
   "file_extension": ".py",
   "mimetype": "text/x-python",
   "name": "python",
   "nbconvert_exporter": "python",
   "pygments_lexer": "ipython3",
   "version": "3.10.7"
  }
 },
 "nbformat": 4,
 "nbformat_minor": 5
}
